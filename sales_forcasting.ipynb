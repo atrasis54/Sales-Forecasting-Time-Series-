{
 "cells": [
  {
   "cell_type": "code",
   "execution_count": null,
   "metadata": {},
   "outputs": [],
   "source": [
    "import pandas as pd\n",
    "import numpy as np\n",
    "import matplotlib.pyplot as plt\n",
    "import seaborn as sns\n",
    "from statsmodels.tsa.arima.model import ARIMA\n",
    "from sklearn.metrics import mean_absolute_error, mean_squared_error\n",
    "from math import sqrt"
   ]
  },
  {
   "cell_type": "code",
   "execution_count": null,
   "metadata": {},
   "outputs": [],
   "source": [
    "# Dataset Description:\n",
    "# The dataset contains historical sales data for a retail store.\n",
    "# It includes columns such as 'date', 'store', 'sales', and other features related to store performance.\n",
    "\n",
    "# Step 1: Load the Dataset\n",
    "# Replace 'path_to_dataset' with the actual path to the downloaded dataset\n",
    "df = pd.read_csv('retail_sales.csv', parse_dates=['date'], index_col='date')\n",
    "# Display basic info and first few rows\n",
    "print(df.info())\n",
    "print(df.head())"
   ]
  },
  {
   "cell_type": "code",
   "execution_count": null,
   "metadata": {},
   "outputs": [],
   "source": [
    "# Step 2: Visualize the Data\n",
    "plt.figure(figsize=(12, 6))\n",
    "sns.lineplot(data=df, x=df.index, y='sales')\n",
    "plt.title('Sales Over Time')\n",
    "plt.xlabel('Date')\n",
    "plt.ylabel('Sales')\n",
    "plt.show()"
   ]
  },
  {
   "cell_type": "code",
   "execution_count": null,
   "metadata": {},
   "outputs": [],
   "source": [
    "# Step 3: Check Stationarity\n",
    "from statsmodels.tsa.stattools import adfuller\n",
    "\n",
    "def check_stationarity(series):\n",
    "    result = adfuller(series)\n",
    "    print(f'ADF Statistic: {result[0]}')\n",
    "    print(f'p-value: {result[1]}')\n",
    "    if result[1] <= 0.05:\n",
    "        print(\"The time series is stationary.\")\n",
    "    else:\n",
    "        print(\"The time series is non-stationary.\")\n",
    "\n",
    "check_stationarity(df['sales'])\n",
    "\n",
    "# If non-stationary, apply differencing\n",
    "df['sales_diff'] = df['sales'].diff().dropna()\n",
    "check_stationarity(df['sales_diff'].dropna())"
   ]
  },
  {
   "cell_type": "code",
   "execution_count": null,
   "metadata": {},
   "outputs": [],
   "source": [
    "# Step 4: Train an ARIMA Model\n",
    "train_size = int(len(df) * 0.8)\n",
    "train, test = df['sales'][:train_size], df['sales'][train_size:]\n",
    "\n",
    "model = ARIMA(train, order=(5,1,0))  # Adjust p, d, q as needed\n",
    "model_fit = model.fit()\n",
    "print(model_fit.summary())"
   ]
  },
  {
   "cell_type": "code",
   "execution_count": null,
   "metadata": {},
   "outputs": [],
   "source": [
    "# Step 5: Forecast Sales\n",
    "forecast = model_fit.forecast(steps=len(test))"
   ]
  },
  {
   "cell_type": "code",
   "execution_count": null,
   "metadata": {},
   "outputs": [],
   "source": [
    "# Step 6: Evaluate the Model\n",
    "mae = mean_absolute_error(test, forecast)\n",
    "mse = mean_squared_error(test, forecast)\n",
    "rmse = sqrt(mse)\n",
    "print(f'MAE: {mae}, MSE: {mse}, RMSE: {rmse}')"
   ]
  },
  {
   "cell_type": "code",
   "execution_count": null,
   "metadata": {},
   "outputs": [],
   "source": [
    "# Step 7: Plot Predictions vs Actual Sales\n",
    "plt.figure(figsize=(12, 6))\n",
    "plt.plot(test.index, test, label='Actual Sales')\n",
    "plt.plot(test.index, forecast, label='Predicted Sales', linestyle='dashed')\n",
    "plt.title('Sales Forecasting using ARIMA')\n",
    "plt.xlabel('Date')\n",
    "plt.ylabel('Sales')\n",
    "plt.legend()\n",
    "plt.show()"
   ]
  }
 ],
 "metadata": {
  "kernelspec": {
   "display_name": "base",
   "language": "python",
   "name": "python3"
  },
  "language_info": {
   "name": "python",
   "version": "3.11.5"
  }
 },
 "nbformat": 4,
 "nbformat_minor": 2
}
